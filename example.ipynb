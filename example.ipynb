{
 "cells": [
  {
   "cell_type": "code",
   "execution_count": 1,
   "id": "22349350",
   "metadata": {},
   "outputs": [
    {
     "name": "stdout",
     "output_type": "stream",
     "text": [
      "Welcome to JupyROOT 6.24/06\n"
     ]
    }
   ],
   "source": [
    "import numpy as np\n",
    "import matplotlib.pyplot as plt\n",
    "import melp"
   ]
  },
  {
   "cell_type": "code",
   "execution_count": 2,
   "id": "f0ac28bf",
   "metadata": {},
   "outputs": [],
   "source": [
    "test = melp.TileHitAngle(\"sortedbig.root\", \"outtest_1\")\n",
    "#test = melp.TileHitAngle(\"mu3e_run_050000.root\", \"outtest_big\")"
   ]
  },
  {
   "cell_type": "code",
   "execution_count": 7,
   "id": "33c2cf34",
   "metadata": {
    "scrolled": true
   },
   "outputs": [
    {
     "name": "stdout",
     "output_type": "stream",
     "text": [
      "Frames to analyze:  2  of  9841\n",
      "sensor tile:  [-11.22522021   3.54778948  -7.135     ]\n",
      "tile:  [-0.9009688679024208, 0.43388373911755806, 0.0]\n",
      "sensor tile:  [ 1.34279145 11.79758275 -3.345     ]\n",
      "tile:  [-0.22252093395631434, 0.9749279121818262, 0.0]\n",
      "sensor tile:  [-11.96066575  -1.52928218  -3.675     ]\n",
      "tile:  [-0.9009688679024208, -0.43388373911755806, 0.0]\n",
      "sensor tile:  [ 8.46709358  7.70601878 -6.655     ]\n",
      "tile:  [0.9009688679024208, 0.4338837391175545, 0.0]\n",
      "sensor tile:  [-12.24260233   0.61223872  19.785     ]\n",
      "tile:  [-0.9009688679024208, -0.43388373911755806, 0.0]\n",
      "100%\n",
      "HID CHECK:  6  of  38 ok\n",
      "TID CHECK:  27  of  59 ok\n",
      "Total Events with matching Tile and Sensor Hit:  5  of:  6  primary Tile hits\n"
     ]
    }
   ],
   "source": [
    "_,_,_ = test.hitAngleRec(n = 2, angle=\"phi\")"
   ]
  },
  {
   "cell_type": "code",
   "execution_count": 8,
   "id": "827b4677",
   "metadata": {},
   "outputs": [
    {
     "name": "stdout",
     "output_type": "stream",
     "text": [
      "Frames to analyze:  2  of  9841\n",
      "sensors:  [ 6.40796747 11.19904041  7.23      ]\n",
      "tile:  [-0.9009688679024208, 0.43388373911755806, 0.0]\n",
      "sensors:  [-13.16491422   7.00816547  14.97      ]\n",
      "tile:  [-0.22252093395631434, 0.9749279121818262, 0.0]\n",
      "sensors:  [ -4.89116321 -12.56635339  -0.67      ]\n",
      "tile:  [-0.9009688679024208, -0.43388373911755806, 0.0]\n",
      "sensors:  [-19.41455922  57.42873475 -98.59      ]\n",
      "tile:  [0.9009688679024208, 0.4338837391175545, 0.0]\n",
      "sensors:  [ 9.54445597 10.03628957  5.63      ]\n",
      "tile:  [-0.9009688679024208, -0.43388373911755806, 0.0]\n",
      "100%\n",
      "HID CHECK:  6  of  38 ok\n",
      "TID CHECK:  27  of  59 ok\n",
      "Total Events with matching Tile and Sensor Hit:  4  of:  6  primary Tile hits\n"
     ]
    }
   ],
   "source": [
    "_,_,_ = test.hitAnglePixelRec(n = 2, angle=\"phi\")"
   ]
  },
  {
   "cell_type": "code",
   "execution_count": 5,
   "id": "08c47194",
   "metadata": {},
   "outputs": [],
   "source": [
    "binned, xedges, yedges = test.getBinned()"
   ]
  },
  {
   "cell_type": "code",
   "execution_count": 6,
   "id": "1b62cf07",
   "metadata": {},
   "outputs": [
    {
     "data": {
      "text/plain": [
       "<matplotlib.colorbar.Colorbar at 0x7feeab608130>"
      ]
     },
     "execution_count": 6,
     "metadata": {},
     "output_type": "execute_result"
    },
    {
     "data": {
      "image/png": "[encoded data removed]",
      "text/plain": [
       "<Figure size 720x576 with 2 Axes>"
      ]
     },
     "metadata": {
      "needs_background": "light"
     },
     "output_type": "display_data"
    }
   ],
   "source": [
    "fig = plt.figure(figsize=(10, 8))\n",
    "import matplotlib as mpl\n",
    "ax = fig.add_subplot(111, title='phi distribution')\n",
    "X, Y = np.meshgrid(xedges, yedges)\n",
    "im = ax.pcolormesh(X, Y, binned.T, cmap=\"turbo\")#, norm = mpl.colors.LogNorm())\n",
    "plt.ylabel(\"phi\")\n",
    "plt.xlabel(\"z\")\n",
    "plt.colorbar(im)\n",
    "#plt.savefig(\"angle_theta_dist_from_rec_helix\", dpi=600)"
   ]
  },
  {
   "cell_type": "code",
   "execution_count": null,
   "id": "89b89c88",
   "metadata": {},
   "outputs": [],
   "source": []
  }
 ],
 "metadata": {
  "kernelspec": {
   "display_name": "Python 3 (ipykernel)",
   "language": "python",
   "name": "python3"
  },
  "language_info": {
   "codemirror_mode": {
    "name": "ipython",
    "version": 3
   },
   "file_extension": ".py",
   "mimetype": "text/x-python",
   "name": "python",
   "nbconvert_exporter": "python",
   "pygments_lexer": "ipython3",
   "version": "3.8.10"
  }
 },
 "nbformat": 4,
 "nbformat_minor": 5
}
