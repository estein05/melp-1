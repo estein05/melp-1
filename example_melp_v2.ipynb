{
 "cells": [
  {
   "cell_type": "code",
   "execution_count": 1,
   "id": "22349350",
   "metadata": {},
   "outputs": [
    {
     "name": "stdout",
     "output_type": "stream",
     "text": [
      "Welcome to JupyROOT 6.24/06\n"
     ]
    }
   ],
   "source": [
    "#import ROOT\n",
    "import numpy as np\n",
    "import matplotlib.pyplot as plt\n",
    "from melp import Detector\n",
    "import melp\n",
    "#from melp import TileAnalyzer\n",
    "#import melp"
   ]
  },
  {
   "cell_type": "code",
   "execution_count": 2,
   "id": "f0ac28bf",
   "metadata": {},
   "outputs": [],
   "source": [
    "#test = melp.TileHitAngle(\"sorted_truth.root\", \"outtest_1\")\n",
    "#test = melp.TileHitAngle(\"mu3e_run_050000.root\", \"outtest_big\")"
   ]
  },
  {
   "cell_type": "code",
   "execution_count": 3,
   "id": "33c2cf34",
   "metadata": {
    "scrolled": true
   },
   "outputs": [],
   "source": [
    "#mu3e_detector = dt.Detector(test.tile_id_pos, test.tile_id_pos, [0,1,2])"
   ]
  },
  {
   "cell_type": "code",
   "execution_count": 4,
   "id": "349bbf7d",
   "metadata": {},
   "outputs": [
    {
     "name": "stdout",
     "output_type": "stream",
     "text": [
      "------------------------------\n",
      "Detector geometry loaded\n",
      "\n",
      "Stats:\n",
      "  - Tiles:  5824\n",
      "  - Pixel Modules:  2844\n",
      "  - Loaded Runs:  []\n",
      "------------------------------\n"
     ]
    }
   ],
   "source": [
    "mu3e_detector = Detector.initFromROOT(\"run1_5000_sorted.root\")\n",
    "#mu3e_detector = Detector.initFromSave(\"test_detector_file\")"
   ]
  },
  {
   "cell_type": "code",
   "execution_count": 5,
   "id": "ea62a4b0",
   "metadata": {},
   "outputs": [],
   "source": [
    "#mu3e_detector.save(\"test_detector_file\")"
   ]
  },
  {
   "cell_type": "code",
   "execution_count": 6,
   "id": "e9f0dde6",
   "metadata": {},
   "outputs": [],
   "source": [
    "melp.select(mu3e_detector)\n"
   ]
  },
  {
   "cell_type": "code",
   "execution_count": 7,
   "id": "d151bf7b",
   "metadata": {},
   "outputs": [
    {
     "name": "stdout",
     "output_type": "stream",
     "text": [
      "<melp.detector.Detector object at 0x7fa9d566be20>\n"
     ]
    }
   ],
   "source": [
    "melp.info()"
   ]
  },
  {
   "cell_type": "code",
   "execution_count": 8,
   "id": "256b0437",
   "metadata": {
    "scrolled": false
   },
   "outputs": [],
   "source": [
    "melp.addTileHits(\"run1_5000_sorted.root\", truth=True, traj=True)"
   ]
  },
  {
   "cell_type": "code",
   "execution_count": 9,
   "id": "58d0bb06",
   "metadata": {},
   "outputs": [
    {
     "data": {
      "text/plain": [
       "Trajectory(id=755093, v_pos=[5.6741271329464285, 16.676966625209705, -1000.0], v_dir=[4.646850974008551, -0.6839871939777392, 25.928958671037247])"
      ]
     },
     "execution_count": 9,
     "metadata": {},
     "output_type": "execute_result"
    }
   ],
   "source": [
    "mu3e_detector.TileDetector.tile[200000].hits[2].trajectory\n"
   ]
  },
  {
   "cell_type": "code",
   "execution_count": 10,
   "id": "794705d3",
   "metadata": {},
   "outputs": [
    {
     "data": {
      "text/plain": [
       "200000"
      ]
     },
     "execution_count": 10,
     "metadata": {},
     "output_type": "execute_result"
    }
   ],
   "source": [
    "mu3e_detector.TileDetector.tile[200000].id\n",
    "\n"
   ]
  },
  {
   "cell_type": "code",
   "execution_count": 11,
   "id": "1f479d18",
   "metadata": {},
   "outputs": [
    {
     "ename": "AttributeError",
     "evalue": "module 'melp' has no attribute 'addTrajectories'",
     "output_type": "error",
     "traceback": [
      "\u001b[0;31m---------------------------------------------------------------------------\u001b[0m",
      "\u001b[0;31mAttributeError\u001b[0m                            Traceback (most recent call last)",
      "\u001b[0;32m/tmp/ipykernel_21301/1024259603.py\u001b[0m in \u001b[0;36m<module>\u001b[0;34m\u001b[0m\n\u001b[0;32m----> 1\u001b[0;31m \u001b[0mmelp\u001b[0m\u001b[0;34m.\u001b[0m\u001b[0maddTrajectories\u001b[0m\u001b[0;34m(\u001b[0m\u001b[0;34m\"run42_20000.root\"\u001b[0m\u001b[0;34m)\u001b[0m\u001b[0;34m\u001b[0m\u001b[0;34m\u001b[0m\u001b[0m\n\u001b[0m",
      "\u001b[0;31mAttributeError\u001b[0m: module 'melp' has no attribute 'addTrajectories'"
     ]
    }
   ],
   "source": [
    "melp.addTrajectories(\"run42_20000.root\")"
   ]
  },
  {
   "cell_type": "code",
   "execution_count": null,
   "id": "e7176cf4",
   "metadata": {},
   "outputs": [],
   "source": []
  },
  {
   "cell_type": "code",
   "execution_count": null,
   "id": "3f2ea26b",
   "metadata": {},
   "outputs": [],
   "source": [
    "hitangle = melp.getHitAngle()"
   ]
  },
  {
   "cell_type": "code",
   "execution_count": null,
   "id": "56219998",
   "metadata": {},
   "outputs": [],
   "source": [
    "print(hitangle[3])"
   ]
  },
  {
   "cell_type": "code",
   "execution_count": null,
   "id": "19eae0d9",
   "metadata": {},
   "outputs": [],
   "source": [
    "mu3e_detector.info()"
   ]
  },
  {
   "cell_type": "code",
   "execution_count": null,
   "id": "793b7fff",
   "metadata": {},
   "outputs": [],
   "source": [
    "import numpy as np\n",
    "\n",
    "fig = plt.figure(figsize=(10, 8))\n",
    "import matplotlib as mpl\n",
    "ax = fig.add_subplot(111, title='theta distribution')\n",
    "X, Y = np.meshgrid(xedges, yedges)\n",
    "im = ax.pcolormesh(X, Y, binned.T, cmap=\"turbo\", norm = mpl.colors.LogNorm())\n",
    "plt.ylabel(\"theta\")\n",
    "plt.xlabel(\"z\")\n",
    "plt.colorbar(im)\n",
    "plt.show()"
   ]
  },
  {
   "cell_type": "code",
   "execution_count": null,
   "id": "6ea8952e",
   "metadata": {},
   "outputs": [],
   "source": []
  }
 ],
 "metadata": {
  "kernelspec": {
   "display_name": "Python 3 (ipykernel)",
   "language": "python",
   "name": "python3"
  },
  "language_info": {
   "codemirror_mode": {
    "name": "ipython",
    "version": 3
   },
   "file_extension": ".py",
   "mimetype": "text/x-python",
   "name": "python",
   "nbconvert_exporter": "python",
   "pygments_lexer": "ipython3",
   "version": "3.9.7"
  }
 },
 "nbformat": 4,
 "nbformat_minor": 5
}
