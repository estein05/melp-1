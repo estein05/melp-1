{
 "cells": [
  {
   "cell_type": "code",
   "execution_count": 1,
   "id": "22349350",
   "metadata": {},
   "outputs": [
    {
     "name": "stdout",
     "output_type": "stream",
     "text": [
      "Welcome to JupyROOT 6.24/06\n"
     ]
    }
   ],
   "source": [
    "#import ROOT\n",
    "import numpy as np\n",
    "import matplotlib.pyplot as plt\n",
    "from melp import Detector\n",
    "from melp import TileAnalyzer\n",
    "#import melp"
   ]
  },
  {
   "cell_type": "code",
   "execution_count": 2,
   "id": "f0ac28bf",
   "metadata": {},
   "outputs": [],
   "source": [
    "#test = melp.TileHitAngle(\"sorted_truth.root\", \"outtest_1\")\n",
    "#test = melp.TileHitAngle(\"mu3e_run_050000.root\", \"outtest_big\")"
   ]
  },
  {
   "cell_type": "code",
   "execution_count": 3,
   "id": "33c2cf34",
   "metadata": {
    "scrolled": true
   },
   "outputs": [],
   "source": [
    "#mu3e_detector = dt.Detector(test.tile_id_pos, test.tile_id_pos, [0,1,2])"
   ]
  },
  {
   "cell_type": "code",
   "execution_count": 4,
   "id": "349bbf7d",
   "metadata": {},
   "outputs": [
    {
     "name": "stdout",
     "output_type": "stream",
     "text": [
      "------------------------------\n",
      "Detector geometry loaded\n",
      "\n",
      "Stats:\n",
      "  - Tiles:  5824\n",
      "  - Pixel Modules:  2844\n",
      "  - Loaded Runs:  []\n",
      "------------------------------\n"
     ]
    }
   ],
   "source": [
    "mu3e_detector = Detector.initFromROOT(\"run42_20000.root\")\n",
    "#mu3e_detector = Detector.initFromSave(\"test_detector_file\")"
   ]
  },
  {
   "cell_type": "code",
   "execution_count": 5,
   "id": "ea62a4b0",
   "metadata": {},
   "outputs": [],
   "source": [
    "#mu3e_detector.save(\"test_detector_file\")"
   ]
  },
  {
   "cell_type": "code",
   "execution_count": 6,
   "id": "98b053de",
   "metadata": {},
   "outputs": [],
   "source": [
    "Analyzer = TileAnalyzer(mu3e_detector, \"test\")"
   ]
  },
  {
   "cell_type": "code",
   "execution_count": 7,
   "id": "6cf9cddb",
   "metadata": {},
   "outputs": [],
   "source": [
    "Analyzer.addTileHits(\"run42_20000.root\")"
   ]
  },
  {
   "cell_type": "code",
   "execution_count": 8,
   "id": "19eae0d9",
   "metadata": {},
   "outputs": [
    {
     "name": "stdout",
     "output_type": "stream",
     "text": [
      "------------------------------\n",
      "Detector information\n",
      "\n",
      "Stats:\n",
      "  - Tiles:  5824\n",
      "  - Pixel Modules:  2844\n",
      "  - Loaded Runs:  [42]\n",
      "------------------------------\n"
     ]
    }
   ],
   "source": [
    "mu3e_detector.info()"
   ]
  },
  {
   "cell_type": "code",
   "execution_count": 9,
   "id": "b326315b",
   "metadata": {},
   "outputs": [
    {
     "data": {
      "text/plain": [
       "[[-566.915], [75], [34], [13], [9], [67.33964024185224]]"
      ]
     },
     "execution_count": 9,
     "metadata": {},
     "output_type": "execute_result"
    }
   ],
   "source": [
    "Analyzer.getHitRate(200003)"
   ]
  },
  {
   "cell_type": "code",
   "execution_count": 10,
   "id": "7fd647d0",
   "metadata": {},
   "outputs": [
    {
     "data": {
      "text/plain": [
       "5825"
      ]
     },
     "execution_count": 10,
     "metadata": {},
     "output_type": "execute_result"
    }
   ],
   "source": [
    "len(Analyzer.getHitRate()[0])"
   ]
  },
  {
   "cell_type": "code",
   "execution_count": 11,
   "id": "77f7bf27",
   "metadata": {},
   "outputs": [
    {
     "name": "stdout",
     "output_type": "stream",
     "text": [
      "[2.3925106877163294, 0.6093589654324563, -3.8685115278663793]\n",
      "53.547982832618025\n"
     ]
    }
   ],
   "source": [
    "print(mu3e_detector.TileDetector.tile[200001].hits[0].impact_vec)\n",
    "print(np.mean(mu3e_detector.TileDetector.hitrate[1]))"
   ]
  },
  {
   "cell_type": "code",
   "execution_count": 12,
   "id": "3f2e6f9f",
   "metadata": {},
   "outputs": [
    {
     "name": "stdout",
     "output_type": "stream",
     "text": [
      "-23.543038305726046\n",
      "97648\n"
     ]
    }
   ],
   "source": [
    "print(np.mean(Analyzer.getHitAngle()[1]))\n",
    "print(len(mu3e_detector.TileDetector.hitangle[1]))"
   ]
  },
  {
   "cell_type": "code",
   "execution_count": 13,
   "id": "d871d6ab",
   "metadata": {},
   "outputs": [
    {
     "name": "stdout",
     "output_type": "stream",
     "text": [
      "[0.6234898018587316, 0.7818314824680286, 0.0]\n"
     ]
    }
   ],
   "source": [
    "print(mu3e_detector.TileDetector.tile[200010].dir)"
   ]
  },
  {
   "cell_type": "code",
   "execution_count": 14,
   "id": "55752368",
   "metadata": {},
   "outputs": [
    {
     "ename": "AttributeError",
     "evalue": "'TileDetector' object has no attribute 'getBinned'",
     "output_type": "error",
     "traceback": [
      "\u001b[0;31m---------------------------------------------------------------------------\u001b[0m",
      "\u001b[0;31mAttributeError\u001b[0m                            Traceback (most recent call last)",
      "\u001b[0;32m/tmp/ipykernel_23068/101451656.py\u001b[0m in \u001b[0;36m<module>\u001b[0;34m\u001b[0m\n\u001b[0;32m----> 1\u001b[0;31m \u001b[0mbinned\u001b[0m\u001b[0;34m,\u001b[0m \u001b[0mxedges\u001b[0m\u001b[0;34m,\u001b[0m \u001b[0myedges\u001b[0m \u001b[0;34m=\u001b[0m \u001b[0mmu3e_detector\u001b[0m\u001b[0;34m.\u001b[0m\u001b[0mTileDetector\u001b[0m\u001b[0;34m.\u001b[0m\u001b[0mgetBinned\u001b[0m\u001b[0;34m(\u001b[0m\u001b[0;34m)\u001b[0m\u001b[0;34m\u001b[0m\u001b[0;34m\u001b[0m\u001b[0m\n\u001b[0m",
      "\u001b[0;31mAttributeError\u001b[0m: 'TileDetector' object has no attribute 'getBinned'"
     ]
    }
   ],
   "source": [
    "binned, xedges, yedges = mu3e_detector.TileDetector.getBinned()"
   ]
  },
  {
   "cell_type": "code",
   "execution_count": null,
   "id": "793b7fff",
   "metadata": {},
   "outputs": [],
   "source": [
    "import numpy as np\n",
    "\n",
    "fig = plt.figure(figsize=(10, 8))\n",
    "import matplotlib as mpl\n",
    "ax = fig.add_subplot(111, title='theta distribution')\n",
    "X, Y = np.meshgrid(xedges, yedges)\n",
    "im = ax.pcolormesh(X, Y, binned.T, cmap=\"turbo\", norm = mpl.colors.LogNorm())\n",
    "plt.ylabel(\"theta\")\n",
    "plt.xlabel(\"z\")\n",
    "plt.colorbar(im)\n",
    "plt.show()"
   ]
  },
  {
   "cell_type": "code",
   "execution_count": null,
   "id": "6ea8952e",
   "metadata": {},
   "outputs": [],
   "source": []
  }
 ],
 "metadata": {
  "kernelspec": {
   "display_name": "Python 3 (ipykernel)",
   "language": "python",
   "name": "python3"
  },
  "language_info": {
   "codemirror_mode": {
    "name": "ipython",
    "version": 3
   },
   "file_extension": ".py",
   "mimetype": "text/x-python",
   "name": "python",
   "nbconvert_exporter": "python",
   "pygments_lexer": "ipython3",
   "version": "3.9.7"
  }
 },
 "nbformat": 4,
 "nbformat_minor": 5
}
