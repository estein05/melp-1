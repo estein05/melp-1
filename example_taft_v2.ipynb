{
 "cells": [
  {
   "cell_type": "code",
   "execution_count": 1,
   "id": "22349350",
   "metadata": {},
   "outputs": [
    {
     "name": "stdout",
     "output_type": "stream",
     "text": [
      "Welcome to JupyROOT 6.24/06\n"
     ]
    }
   ],
   "source": [
    "# import ROOT\n",
    "import numpy as np\n",
    "import matplotlib.pyplot as plt\n",
    "from melp import Detector\n",
    "# import melp\n",
    "import melp.taft"
   ]
  },
  {
   "cell_type": "code",
   "execution_count": 2,
   "id": "f0ac28bf",
   "metadata": {},
   "outputs": [],
   "source": [
    "#test = melp.TileHitAngle(\"sorted_truth.root\", \"outtest_1\")\n",
    "#test = melp.TileHitAngle(\"mu3e_run_050000.root\", \"outtest_big\")"
   ]
  },
  {
   "cell_type": "code",
   "execution_count": 3,
   "id": "33c2cf34",
   "metadata": {
    "scrolled": true
   },
   "outputs": [],
   "source": [
    "#mu3e_detector = dt.Detector(test.tile_id_pos, test.tile_id_pos, [0,1,2])"
   ]
  },
  {
   "cell_type": "code",
   "execution_count": 4,
   "id": "349bbf7d",
   "metadata": {},
   "outputs": [
    {
     "name": "stdout",
     "output_type": "stream",
     "text": [
      "------------------------------\n",
      "Detector information\n",
      "\n",
      "Stats:\n",
      "  - Tiles:  5824\n",
      "    -> misal:  True\n",
      "  - Pixel Modules:  2844\n",
      "  - Loaded Runs (Tiles):  []\n",
      "  - Loaded Runs (Pixel):  []\n",
      "------------------------------\n"
     ]
    }
   ],
   "source": [
    "mu3e_detector = Detector.initFromROOT(\"run42_20000.root\")\n",
    "#mu3e_detector = Detector.initFromROOT(\"soted_truth.root\")\n",
    "#mu3e_detector = Detector.initFromSave(\"test_detector_file\")"
   ]
  },
  {
   "cell_type": "code",
   "execution_count": 5,
   "id": "ea62a4b0",
   "metadata": {},
   "outputs": [],
   "source": [
    "#mu3e_detector.save(\"test_detector_file\")"
   ]
  },
  {
   "cell_type": "code",
   "execution_count": 6,
   "id": "07707cc0",
   "metadata": {},
   "outputs": [],
   "source": [
    "melp.taft.select(mu3e_detector)"
   ]
  },
  {
   "cell_type": "code",
   "execution_count": 7,
   "id": "81eabd03",
   "metadata": {},
   "outputs": [],
   "source": [
    "mu3e_detector.TileDetector.tile[202003].dt\n",
    "dt = []\n",
    "for tile in mu3e_detector.TileDetector.tile:\n",
    "    dt.append(mu3e_detector.TileDetector.tile[tile].dt)"
   ]
  },
  {
   "cell_type": "code",
   "execution_count": 8,
   "id": "fc228357",
   "metadata": {},
   "outputs": [],
   "source": [
    "dt = np.array(dt)"
   ]
  },
  {
   "cell_type": "code",
   "execution_count": 9,
   "id": "32612c1c",
   "metadata": {},
   "outputs": [
    {
     "data": {
      "image/png": "[encoded data removed]",
      "text/plain": [
       "<Figure size 432x288 with 1 Axes>"
      ]
     },
     "metadata": {
      "needs_background": "light"
     },
     "output_type": "display_data"
    }
   ],
   "source": [
    "plt.hist(dt, bins=200, range=(-10,10))\n",
    "plt.show()"
   ]
  },
  {
   "cell_type": "code",
   "execution_count": null,
   "id": "8ba5cc92",
   "metadata": {},
   "outputs": [],
   "source": [
    "\n",
    "resid_z, resid_phi, cal = melp.taft.calibrate(\"sorted1.root\")"
   ]
  },
  {
   "cell_type": "code",
   "execution_count": null,
   "id": "e509372b",
   "metadata": {},
   "outputs": [],
   "source": [
    "resid_z = np.array(resid_z)\n",
    "resid_phi = np.array(resid_phi)"
   ]
  },
  {
   "cell_type": "code",
   "execution_count": null,
   "id": "efd5cfd0",
   "metadata": {},
   "outputs": [],
   "source": [
    "plt.hist(resid_z, bins=200, range=(-1,1))\n",
    "plt.show()"
   ]
  },
  {
   "cell_type": "code",
   "execution_count": null,
   "id": "8d448465",
   "metadata": {},
   "outputs": [],
   "source": [
    "plt.hist(resid_phi, bins=200, range=(-2,2))\n",
    "plt.show()"
   ]
  },
  {
   "cell_type": "code",
   "execution_count": null,
   "id": "acc45628",
   "metadata": {
    "scrolled": true
   },
   "outputs": [],
   "source": [
    "for phi in cal:\n",
    "    plt.plot(np.array(cal[phi], dtype=object))\n",
    "\n",
    "plt.ylim(-0.75,0.25)\n",
    "plt.title(\"after alignment\")\n",
    "plt.show()"
   ]
  },
  {
   "cell_type": "code",
   "execution_count": null,
   "id": "961e4040",
   "metadata": {},
   "outputs": [],
   "source": [
    "cal1 = {}\n",
    "for phi_row in range(56):\n",
    "    dt_truth = [0]\n",
    "    for tile in range(0, 51):\n",
    "\n",
    "        dt_tmp = (mu3e_detector.TileDetector.tile[200000 + phi_row + tile * 56].dt -\n",
    "                   mu3e_detector.TileDetector.tile[200000 + phi_row + (tile+1) * 56].dt)\n",
    "        dt_truth.append(dt_truth[-1] + dt_tmp)\n",
    "\n",
    "    cal1[phi_row] = np.array(dt_truth)\n"
   ]
  },
  {
   "cell_type": "code",
   "execution_count": null,
   "id": "3704af05",
   "metadata": {},
   "outputs": [],
   "source": [
    "for phi in cal1:\n",
    "    plt.plot(np.array(cal1[phi], dtype=object))\n",
    "\n",
    "plt.ylim(-5,2)\n",
    "plt.title(\"Before alignment\")\n",
    "plt.show()"
   ]
  },
  {
   "cell_type": "code",
   "execution_count": null,
   "id": "144b84e9",
   "metadata": {},
   "outputs": [],
   "source": []
  }
 ],
 "metadata": {
  "kernelspec": {
   "display_name": "Python 3 (ipykernel)",
   "language": "python",
   "name": "python3"
  },
  "language_info": {
   "codemirror_mode": {
    "name": "ipython",
    "version": 3
   },
   "file_extension": ".py",
   "mimetype": "text/x-python",
   "name": "python",
   "nbconvert_exporter": "python",
   "pygments_lexer": "ipython3",
   "version": "3.9.7"
  }
 },
 "nbformat": 4,
 "nbformat_minor": 5
}
