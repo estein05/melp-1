{
 "cells": [
  {
   "cell_type": "code",
   "execution_count": 1,
   "id": "b70556a2",
   "metadata": {},
   "outputs": [
    {
     "name": "stdout",
     "output_type": "stream",
     "text": [
      "Welcome to JupyROOT 6.24/06\n"
     ]
    }
   ],
   "source": [
    "#import melp\n",
    "\n",
    "#import numpy as np\n",
    "from glob import glob\n",
    "from melp import multithreading as mt"
   ]
  },
  {
   "cell_type": "code",
   "execution_count": 2,
   "id": "557392d5",
   "metadata": {},
   "outputs": [
    {
     "name": "stdout",
     "output_type": "stream",
     "text": [
      "-----------------------\n",
      "Available threads =  8\n",
      "Used threads =  6\n",
      "-----------------------\n",
      "read file  1\n",
      "started thread  1\n",
      "Frames to analyze:  841  of  read file 841 3\n",
      "\n",
      "started thread  3\n",
      "Frames to analyze:  841  of  841\n",
      "read file  4\n",
      "started thread  4\n",
      "Frames to analyze:  841  of  841\n",
      "read file  2\n",
      "started thread  2\n",
      "Frames to analyze:  841  of  841\n",
      "100%\n",
      "HID CHECK:  4044  of  13149 ok\n",
      "TID CHECK:  22034  of  31139 ok\n",
      "Total Events with matching Tile and Sensor Hit:  2892  of:  4044  primary Tile hits\n",
      "100%\n",
      "HID CHECK:  4095  of  13000 ok\n",
      "TID CHECK:  23089  of  31994 ok\n",
      "Total Events with matching Tile and Sensor Hit:  2932  of:  4095  primary Tile hits\n",
      "100%\n",
      "HID CHECK:  4147  of  13041 ok\n",
      "TID CHECK:  23564  of  32458 ok\n",
      "Total Events with matching Tile and Sensor Hit:  2977  of:  4147  primary Tile hits\n",
      "100%\n",
      "HID CHECK:  4101  of  13259 ok\n",
      "TID CHECK:  23592  of  32750 ok\n",
      "Total Events with matching Tile and Sensor Hit:  2909  of:  4101  primary Tile hits\n"
     ]
    }
   ],
   "source": [
    "args = (True, False, False, \"theta\")#, \"primary\", \"all\")\n",
    "src = \"/home/erik/GitLab_KIP/melp/testdata/sorted/sorted*.root\"\n",
    "\n",
    "mt.run_mt(\"mt_hitAnglePixelRec\", src, args)"
   ]
  },
  {
   "cell_type": "code",
   "execution_count": 3,
   "id": "c8d92fda",
   "metadata": {},
   "outputs": [],
   "source": [
    "src = \"./testdata/sorted/sorted*.root\"\n",
    "input_files = glob(src, recursive=True) "
   ]
  },
  {
   "cell_type": "code",
   "execution_count": null,
   "id": "ce4ac475",
   "metadata": {},
   "outputs": [],
   "source": [
    "\n",
    "\n"
   ]
  }
 ],
 "metadata": {
  "kernelspec": {
   "display_name": "Python 3 (ipykernel)",
   "language": "python",
   "name": "python3"
  },
  "language_info": {
   "codemirror_mode": {
    "name": "ipython",
    "version": 3
   },
   "file_extension": ".py",
   "mimetype": "text/x-python",
   "name": "python",
   "nbconvert_exporter": "python",
   "pygments_lexer": "ipython3",
   "version": "3.8.10"
  }
 },
 "nbformat": 4,
 "nbformat_minor": 5
}
