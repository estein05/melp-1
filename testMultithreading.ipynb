{
 "cells": [
  {
   "cell_type": "code",
   "execution_count": 1,
   "id": "b70556a2",
   "metadata": {},
   "outputs": [
    {
     "name": "stdout",
     "output_type": "stream",
     "text": [
      "Welcome to JupyROOT 6.24/04\n"
     ]
    }
   ],
   "source": [
    "#import melp\n",
    "\n",
    "#import numpy as np\n",
    "from glob import glob\n",
    "from melp import multithreading as mt"
   ]
  },
  {
   "cell_type": "code",
   "execution_count": 2,
   "id": "557392d5",
   "metadata": {},
   "outputs": [
    {
     "name": "stdout",
     "output_type": "stream",
     "text": [
      "-----------------------\n",
      "Available threads =  8\n",
      "Used threads =  6\n",
      "-----------------------\n"
     ]
    }
   ],
   "source": [
    "args = (False, False, True, \"theta\")#, \"primary\", \"all\")\n",
    "src = \"/home/maximilian/GitLab_KIP/melp/testdata/sorted*.root\"\n",
    "\n",
    "mt.run_mt(\"mt_hitAngleRec\", src , args)"
   ]
  },
  {
   "cell_type": "code",
   "execution_count": 3,
   "id": "c8d92fda",
   "metadata": {},
   "outputs": [],
   "source": [
    "src = \"./testdata/sorted/sorted*.root\"\n",
    "input_files = glob(src, recursive=True) "
   ]
  },
  {
   "cell_type": "code",
   "execution_count": 4,
   "id": "f9423f82",
   "metadata": {},
   "outputs": [
    {
     "name": "stdout",
     "output_type": "stream",
     "text": [
      "./testdata/sorted/sorted1.root\n",
      "./testdata/sorted/sorted2.root\n",
      "./testdata/sorted/sorted3.root\n",
      "./testdata/sorted/sorted4.root\n"
     ]
    }
   ],
   "source": [
    "for i in input_files:\n",
    "    print(i)"
   ]
  },
  {
   "cell_type": "code",
   "execution_count": null,
   "id": "ce4ac475",
   "metadata": {},
   "outputs": [],
   "source": [
    "\n",
    "\n"
   ]
  }
 ],
 "metadata": {
  "kernelspec": {
   "display_name": "Python 3 (ipykernel)",
   "language": "python",
   "name": "python3"
  },
  "language_info": {
   "codemirror_mode": {
    "name": "ipython",
    "version": 3
   },
   "file_extension": ".py",
   "mimetype": "text/x-python",
   "name": "python",
   "nbconvert_exporter": "python",
   "pygments_lexer": "ipython3",
   "version": "3.9.7"
  }
 },
 "nbformat": 4,
 "nbformat_minor": 5
}
