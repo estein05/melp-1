{
 "cells": [
  {
   "cell_type": "code",
   "execution_count": 1,
   "id": "b70556a2",
   "metadata": {},
   "outputs": [
    {
     "name": "stdout",
     "output_type": "stream",
     "text": [
      "Welcome to JupyROOT 6.24/06\n"
     ]
    }
   ],
   "source": [
    "#import melp\n",
    "\n",
    "#import numpy as np\n",
    "from glob import glob\n",
    "from melp import multithreading as mt"
   ]
  },
  {
   "cell_type": "code",
   "execution_count": 2,
   "id": "557392d5",
   "metadata": {},
   "outputs": [
    {
     "name": "stdout",
     "output_type": "stream",
     "text": [
      "-----------------------\n",
      "Available threads =  8\n",
      "Used threads =  6\n",
      "-----------------------\n",
      "./testdata/sorted/sorted2.root./testdata/sorted/sorted4.root./testdata/sorted/sorted1.root./testdata/sorted/sorted3.root\n",
      "\n",
      "\n",
      "\n",
      "read file  1\n",
      "started thread  1\n",
      "Frames to analyze:  841  of read file read file   841 4\n",
      "2\n",
      "\n",
      "started thread started thread   42\n",
      "Frames to analyze: \n",
      " read file Frames to analyze:  8413  \n",
      "841 of started thread     of 8413\n",
      "\n",
      " Frames to analyze:  841841\n",
      "  of  841\n",
      "11.89 %  |  Hits: 430   |  Hits without matching trajectory:  19\n",
      "11.89 %  |  Hits: 451   |  Hits without matching trajectory:  21\n",
      "11.89 %  |  Hits: 479   |  Hits without matching trajectory:  18\n",
      "11.89 %  |  Hits: 475   |  Hits without matching trajectory:  23\n",
      "23.78 %  |  Hits: 900   |  Hits without matching trajectory:  44\n",
      "23.78 %  |  Hits: 920   |  Hits without matching trajectory:  38\n",
      "23.78 %  |  Hits: 984   |  Hits without matching trajectory:  34\n",
      "23.78 %  |  Hits: 970   |  Hits without matching trajectory:  39\n",
      "35.67 %  |  Hits: 1385   |  Hits without matching trajectory:  62\n",
      "35.67 %  |  Hits: 1421   |  Hits without matching trajectory:  50\n",
      "35.67 %  |  Hits: 1467   |  Hits without matching trajectory:  55\n",
      "35.67 %  |  Hits: 1463   |  Hits without matching trajectory:  55\n",
      "47.56 %  |  Hits: 1840   |  Hits without matching trajectory:  78\n",
      "47.56 %  |  Hits: 1865   |  Hits without matching trajectory:  66\n",
      "47.56 %  |  Hits: 1902   |  Hits without matching trajectory:  69\n",
      "47.56 %  |  Hits: 1953   |  Hits without matching trajectory:  72\n",
      "59.45 %  |  Hits: 2284   |  Hits without matching trajectory:  95\n",
      "59.45 %  |  Hits: 2340   |  Hits without matching trajectory:  85\n",
      "59.45 %  |  Hits: 2398   |  Hits without matching trajectory:  86\n",
      "59.45 %  |  Hits: 2380   |  Hits without matching trajectory:  99\n",
      "71.34 %  |  Hits: 2760   |  Hits without matching trajectory:  115\n",
      "71.34 %  |  Hits: 2785   |  Hits without matching trajectory:  109\n",
      "71.34 %  |  Hits: 2814   |  Hits without matching trajectory:  118\n",
      "71.34 %  |  Hits: 2837   |  Hits without matching trajectory:  115\n",
      "83.23 %  |  Hits: 3231   |  Hits without matching trajectory:  130\n",
      "83.23 %  |  Hits: 3281   |  Hits without matching trajectory:  130\n",
      "83.23 %  |  Hits: 3269   |  Hits without matching trajectory:  129\n",
      "83.23 %  |  Hits: 3325   |  Hits without matching trajectory:  135\n",
      "95.12 %  |  Hits: 3702   |  Hits without matching trajectory:  146\n",
      "95.12 %  |  Hits: 3755   |  Hits without matching trajectory:  145\n",
      "95.12 %  |  Hits: 3753   |  Hits without matching trajectory:  145\n",
      "95.12 %  |  Hits: 3785   |  Hits without matching trajectory:  147\n",
      "100%\n",
      "100%\n",
      "100%\n",
      "100%\n"
     ]
    }
   ],
   "source": [
    "args = (True, True, True)\n",
    "mt.run_mt(\"mt_angleHelix\", \"./testdata/sorted/sorted*.root\", args)"
   ]
  },
  {
   "cell_type": "code",
   "execution_count": 3,
   "id": "c8d92fda",
   "metadata": {},
   "outputs": [],
   "source": [
    "src = \"./testdata/sorted/sorted*.root\"\n",
    "input_files = glob(src, recursive=True) "
   ]
  },
  {
   "cell_type": "code",
   "execution_count": 4,
   "id": "f9423f82",
   "metadata": {},
   "outputs": [
    {
     "name": "stdout",
     "output_type": "stream",
     "text": [
      "./testdata/sorted/sorted4.root\n",
      "./testdata/sorted/sorted2.root\n",
      "./testdata/sorted/sorted3.root\n",
      "./testdata/sorted/sorted1.root\n"
     ]
    }
   ],
   "source": [
    "for i in input_files:\n",
    "    print(i)"
   ]
  },
  {
   "cell_type": "code",
   "execution_count": null,
   "id": "ce4ac475",
   "metadata": {},
   "outputs": [],
   "source": []
  }
 ],
 "metadata": {
  "kernelspec": {
   "display_name": "Python 3 (ipykernel)",
   "language": "python",
   "name": "python3"
  },
  "language_info": {
   "codemirror_mode": {
    "name": "ipython",
    "version": 3
   },
   "file_extension": ".py",
   "mimetype": "text/x-python",
   "name": "python",
   "nbconvert_exporter": "python",
   "pygments_lexer": "ipython3",
   "version": "3.8.10"
  }
 },
 "nbformat": 4,
 "nbformat_minor": 5
}
